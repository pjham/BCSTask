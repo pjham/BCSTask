{
  "nbformat": 4,
  "nbformat_minor": 0,
  "metadata": {
    "colab": {
      "name": "BCSTask.ipynb",
      "provenance": [],
      "authorship_tag": "ABX9TyNZdzxKil6BMmtN1RlCN1Hd",
      "include_colab_link": true
    },
    "kernelspec": {
      "name": "python3",
      "display_name": "Python 3"
    },
    "language_info": {
      "name": "python"
    },
    "accelerator": "GPU",
    "gpuClass": "standard"
  },
  "cells": [
    {
      "cell_type": "markdown",
      "metadata": {
        "id": "view-in-github",
        "colab_type": "text"
      },
      "source": [
        "<a href=\"https://colab.research.google.com/github/pjham/BCSTask/blob/main/BCSTask.ipynb\" target=\"_parent\"><img src=\"https://colab.research.google.com/assets/colab-badge.svg\" alt=\"Open In Colab\"/></a>"
      ]
    },
    {
      "cell_type": "markdown",
      "source": [
        "**Neural network from scratch**\n",
        "\n",
        "Will be working on mnist handwritten digits database"
      ],
      "metadata": {
        "id": "yeIny9y1UL29"
      }
    },
    {
      "cell_type": "code",
      "source": [
        "import numpy as np\n",
        "import pandas as pd\n",
        "import matplotlib.pyplot as plt\n",
        "import io\n",
        "#import tensorflow as tf  "
      ],
      "metadata": {
        "id": "JC-gLO8BUS7a"
      },
      "execution_count": 1,
      "outputs": []
    },
    {
      "cell_type": "code",
      "source": [
        "!wget https://storage.googleapis.com/mledu-datasets/mnist_train_small.csv -O /tmp/mnist_train_small.csv"
      ],
      "metadata": {
        "colab": {
          "base_uri": "https://localhost:8080/"
        },
        "id": "EM6A5U9-pnxx",
        "outputId": "67fa6b16-ef96-4311-90d5-f32313415389"
      },
      "execution_count": 2,
      "outputs": [
        {
          "output_type": "stream",
          "name": "stdout",
          "text": [
            "--2022-07-20 11:02:38--  https://storage.googleapis.com/mledu-datasets/mnist_train_small.csv\n",
            "Resolving storage.googleapis.com (storage.googleapis.com)... 108.177.98.128, 74.125.197.128, 74.125.142.128, ...\n",
            "Connecting to storage.googleapis.com (storage.googleapis.com)|108.177.98.128|:443... connected.\n",
            "HTTP request sent, awaiting response... 200 OK\n",
            "Length: 36523880 (35M) [application/octet-stream]\n",
            "Saving to: ‘/tmp/mnist_train_small.csv’\n",
            "\n",
            "/tmp/mnist_train_sm 100%[===================>]  34.83M  83.7MB/s    in 0.4s    \n",
            "\n",
            "2022-07-20 11:02:39 (83.7 MB/s) - ‘/tmp/mnist_train_small.csv’ saved [36523880/36523880]\n",
            "\n"
          ]
        }
      ]
    },
    {
      "cell_type": "code",
      "source": [
        "data = pd.read_csv(io.open(\"/tmp/mnist_train_small.csv\", \"r\"),\n",
        "  sep=\",\",\n",
        "  header=None)\n",
        "data = np.array(data)\n",
        "m, n = data.shape\n",
        "np.random.shuffle(data)\n",
        "\n",
        "data_dev = data[0:1000].T\n",
        "Y_dev = data_dev[0]\n",
        "X_dev = data_dev[1:n]\n",
        "X_dev = X_dev / 255.\n",
        "\n",
        "data_train = data[1000:m].T\n",
        "Y_train = data_train[0]\n",
        "X_train = data_train[1:n]\n",
        "X_train = X_train / 255.\n",
        "_,m_train = X_train.shape\n",
        "Y_train"
      ],
      "metadata": {
        "colab": {
          "base_uri": "https://localhost:8080/"
        },
        "id": "6fqbXVJZou0y",
        "outputId": "91ef29fd-143c-48e9-a1aa-b368fde896e8"
      },
      "execution_count": 3,
      "outputs": [
        {
          "output_type": "execute_result",
          "data": {
            "text/plain": [
              "array([0, 8, 8, ..., 1, 2, 6])"
            ]
          },
          "metadata": {},
          "execution_count": 3
        }
      ]
    },
    {
      "cell_type": "code",
      "source": [
        "def init_params():\n",
        "    W1 = np.random.rand(10, 784) - 0.5\n",
        "    b1 = np.random.rand(10, 1) - 0.5\n",
        "    W2 = np.random.rand(10, 10) - 0.5\n",
        "    b2 = np.random.rand(10, 1) - 0.5\n",
        "    return W1, b1, W2, b2"
      ],
      "metadata": {
        "id": "8Xu-Bl5vntlo"
      },
      "execution_count": 4,
      "outputs": []
    },
    {
      "cell_type": "code",
      "source": [
        "def ReLU(Z):\n",
        "    return np.maximum(Z, 0)\n"
      ],
      "metadata": {
        "id": "duLFU2HknvnN"
      },
      "execution_count": 5,
      "outputs": []
    },
    {
      "cell_type": "code",
      "source": [
        "def softmax(Z):\n",
        "    A = np.exp(Z) / sum(np.exp(Z))\n",
        "    return A"
      ],
      "metadata": {
        "id": "Cb-Zok3NnyjD"
      },
      "execution_count": 6,
      "outputs": []
    },
    {
      "cell_type": "code",
      "source": [
        "def forward_prop(W1, b1, W2, b2, X):\n",
        "    Z1 = W1.dot(X) + b1\n",
        "    A1 = ReLU(Z1)\n",
        "    Z2 = W2.dot(A1) + b2\n",
        "    A2 = softmax(Z2)\n",
        "    return Z1, A1, Z2, A2\n"
      ],
      "metadata": {
        "id": "IoD3piSCn2i7"
      },
      "execution_count": 7,
      "outputs": []
    },
    {
      "cell_type": "code",
      "source": [
        "def ReLU_deriv(Z):\n",
        "    return Z > 0"
      ],
      "metadata": {
        "id": "z4L44dl2qqya"
      },
      "execution_count": 8,
      "outputs": []
    },
    {
      "cell_type": "code",
      "source": [
        "def one_hot(Y):\n",
        "    one_hot_Y = np.zeros((Y.size, Y.max() + 1))\n",
        "    one_hot_Y[np.arange(Y.size), Y] = 1\n",
        "    one_hot_Y = one_hot_Y.T\n",
        "    return one_hot_Y"
      ],
      "metadata": {
        "id": "n4H_bshyn4tr"
      },
      "execution_count": 9,
      "outputs": []
    },
    {
      "cell_type": "code",
      "source": [
        "def backward_prop(Z1, A1, Z2, A2, W1, W2, X, Y):\n",
        "    one_hot_Y = one_hot(Y)\n",
        "    dZ2 = A2 - one_hot_Y\n",
        "    dW2 = 1 / m * dZ2.dot(A1.T)\n",
        "    db2 = 1 / m * np.sum(dZ2)\n",
        "    dZ1 = W2.T.dot(dZ2) * ReLU_deriv(Z1)\n",
        "    dW1 = 1 / m * dZ1.dot(X.T)\n",
        "    db1 = 1 / m * np.sum(dZ1)\n",
        "    return dW1, db1, dW2, db2"
      ],
      "metadata": {
        "id": "L6bD423Fn83N"
      },
      "execution_count": 10,
      "outputs": []
    },
    {
      "cell_type": "code",
      "source": [
        "def update_params(W1, b1, W2, b2, dW1, db1, dW2, db2, alpha):\n",
        "    W1 = W1 - alpha * dW1\n",
        "    b1 = b1 - alpha * db1    \n",
        "    W2 = W2 - alpha * dW2  \n",
        "    b2 = b2 - alpha * db2    \n",
        "    return W1, b1, W2, b2"
      ],
      "metadata": {
        "id": "7K2dAdWbn-9u"
      },
      "execution_count": 11,
      "outputs": []
    },
    {
      "cell_type": "code",
      "source": [
        "def get_predictions(A2):\n",
        "    return np.argmax(A2, 0)\n",
        "\n",
        "def get_accuracy(predictions, Y):\n",
        "    print(predictions, Y)\n",
        "    return np.sum(predictions == Y) / Y.size\n",
        "\n",
        "def gradient_descent(X, Y, alpha, iterations):\n",
        "    W1, b1, W2, b2 = init_params()\n",
        "    for i in range(iterations):\n",
        "        Z1, A1, Z2, A2 = forward_prop(W1, b1, W2, b2, X)\n",
        "        dW1, db1, dW2, db2 = backward_prop(Z1, A1, Z2, A2, W1, W2, X, Y)\n",
        "        W1, b1, W2, b2 = update_params(W1, b1, W2, b2, dW1, db1, dW2, db2, alpha)\n",
        "        if i % 100 == 0:\n",
        "            print(\"Iteration: \", i)\n",
        "            predictions = get_predictions(A2)\n",
        "            print(get_accuracy(predictions, Y))\n",
        "    print(\"finally\")\n",
        "    predictions = get_predictions(A2)\n",
        "    print(get_accuracy(predictions, Y))\n",
        "    return W1, b1, W2, b2"
      ],
      "metadata": {
        "id": "t3Dx1ddHoA8h"
      },
      "execution_count": 12,
      "outputs": []
    },
    {
      "cell_type": "code",
      "source": [
        "W1, b1, W2, b2 = gradient_descent(X_train, Y_train, 0.10, 500)"
      ],
      "metadata": {
        "colab": {
          "base_uri": "https://localhost:8080/"
        },
        "id": "QbkZVA5SoFkS",
        "outputId": "b247b8f7-f6de-46b5-a252-2f0a6a93fe27"
      },
      "execution_count": 13,
      "outputs": [
        {
          "output_type": "stream",
          "name": "stdout",
          "text": [
            "Iteration:  0\n",
            "[9 4 4 ... 7 9 9] [0 8 8 ... 1 2 6]\n",
            "0.093\n",
            "Iteration:  100\n",
            "[0 1 8 ... 1 2 6] [0 8 8 ... 1 2 6]\n",
            "0.45810526315789474\n",
            "Iteration:  200\n",
            "[0 8 8 ... 1 2 6] [0 8 8 ... 1 2 6]\n",
            "0.640578947368421\n",
            "Iteration:  300\n",
            "[0 8 8 ... 1 2 6] [0 8 8 ... 1 2 6]\n",
            "0.733578947368421\n",
            "Iteration:  400\n",
            "[0 8 8 ... 1 2 6] [0 8 8 ... 1 2 6]\n",
            "0.7923157894736842\n",
            "finally\n",
            "[0 8 8 ... 1 2 6] [0 8 8 ... 1 2 6]\n",
            "0.8205263157894737\n"
          ]
        }
      ]
    },
    {
      "cell_type": "code",
      "source": [
        "def make_predictions(X, W1, b1, W2, b2):\n",
        "    _, _, _, A2 = forward_prop(W1, b1, W2, b2, X)\n",
        "    predictions = get_predictions(A2)\n",
        "    return predictions\n",
        "\n",
        "def test_prediction(index, W1, b1, W2, b2):\n",
        "    current_image = X_train[:, index, None]\n",
        "    prediction = make_predictions(X_train[:, index, None], W1, b1, W2, b2)\n",
        "    label = Y_train[index]\n",
        "    print(\"Prediction: \", prediction)\n",
        "    print(\"Label: \", label)\n",
        "    \n",
        "    \n",
        "    current_image = current_image.reshape((28, 28)) * 255\n",
        "    plt.imshow(current_image, interpolation='nearest')\n",
        "    plt.show()"
      ],
      "metadata": {
        "id": "4vL7Nwx4oIOS"
      },
      "execution_count": 14,
      "outputs": []
    },
    {
      "cell_type": "code",
      "source": [
        "import random"
      ],
      "metadata": {
        "id": "yAY1_d6fDVJ4"
      },
      "execution_count": 15,
      "outputs": []
    },
    {
      "cell_type": "code",
      "source": [
        "for i in range(4):\n",
        "  r=random.randrange(0,1000,2)\n",
        "  test_prediction(r, W1,b1,W2,b2)\n",
        "  "
      ],
      "metadata": {
        "colab": {
          "base_uri": "https://localhost:8080/",
          "height": 1000
        },
        "id": "5tzL-Djjr1nf",
        "outputId": "7dc8e9b3-9727-401f-cebc-edc0b3b9f81f"
      },
      "execution_count": 17,
      "outputs": [
        {
          "output_type": "stream",
          "name": "stdout",
          "text": [
            "Prediction:  [9]\n",
            "Label:  9\n"
          ]
        },
        {
          "output_type": "display_data",
          "data": {
            "text/plain": [
              "<Figure size 432x288 with 1 Axes>"
            ],
            "image/png": "[encoded data removed]"
          },
          "metadata": {
            "needs_background": "light"
          }
        },
        {
          "output_type": "stream",
          "name": "stdout",
          "text": [
            "Prediction:  [3]\n",
            "Label:  3\n"
          ]
        },
        {
          "output_type": "display_data",
          "data": {
            "text/plain": [
              "<Figure size 432x288 with 1 Axes>"
            ],
            "image/png": "[encoded data removed]"
          },
          "metadata": {
            "needs_background": "light"
          }
        },
        {
          "output_type": "stream",
          "name": "stdout",
          "text": [
            "Prediction:  [1]\n",
            "Label:  7\n"
          ]
        },
        {
          "output_type": "display_data",
          "data": {
            "text/plain": [
              "<Figure size 432x288 with 1 Axes>"
            ],
            "image/png": "[encoded data removed]"
          },
          "metadata": {
            "needs_background": "light"
          }
        },
        {
          "output_type": "stream",
          "name": "stdout",
          "text": [
            "Prediction:  [2]\n",
            "Label:  2\n"
          ]
        },
        {
          "output_type": "display_data",
          "data": {
            "text/plain": [
              "<Figure size 432x288 with 1 Axes>"
            ],
            "image/png": "[encoded data removed]"
          },
          "metadata": {
            "needs_background": "light"
          }
        }
      ]
    },
    {
      "cell_type": "markdown",
      "source": [
        "**CNN using tensorflow**\n",
        "\n",
        "will be using CNN model to classify cifar10 images of objects"
      ],
      "metadata": {
        "id": "K-kIF0NCQ4PP"
      }
    },
    {
      "cell_type": "code",
      "source": [
        "import tensorflow as tf\n",
        "from keras.datasets import cifar10\n",
        "from tensorflow.keras.utils import normalize\n",
        "(x_train,y_train),(x_test,y_test) = cifar10.load_data()\n",
        "x_train = normalize(x_train,axis = 1)\n",
        "x_test = normalize(x_test,axis = 1)"
      ],
      "metadata": {
        "id": "MGhpJAufO4he"
      },
      "execution_count": 47,
      "outputs": []
    },
    {
      "cell_type": "code",
      "source": [
        "from keras.models import Sequential\n",
        "model=Sequential()"
      ],
      "metadata": {
        "id": "vP2S_7R6QdNU"
      },
      "execution_count": 20,
      "outputs": []
    },
    {
      "cell_type": "code",
      "source": [
        "from keras.layers import Dense, Dropout, CuDNNLSTM, Conv2D, MaxPooling2D, Flatten"
      ],
      "metadata": {
        "id": "m5qpk98kQiBi"
      },
      "execution_count": 37,
      "outputs": []
    },
    {
      "cell_type": "code",
      "source": [
        "model = Sequential()\n",
        "model.add(Conv2D(128,kernel_size = (3,3),strides = (1,1),input_shape = x_train.shape[1:],activation = 'relu'))\n",
        "model.add(MaxPooling2D(pool_size = (2,2),strides = (1,1)))\n",
        "\n",
        "model.add(Conv2D(128,kernel_size = (3,3),strides = (1,1),activation = 'relu'))\n",
        "model.add(MaxPooling2D(pool_size = (2,2),strides = (1,1)))\n",
        "\n",
        "model.add(Flatten())\n",
        "model.add(Dense(64,activation = 'relu'))\n",
        "model.add(Dense(10,activation = 'softmax'))\n",
        "model.compile(optimizer = 'adam',loss = \"sparse_categorical_crossentropy\" , metrics=['accuracy'])\n",
        "model.fit(x_train,y_train,epochs = 8)"
      ],
      "metadata": {
        "colab": {
          "base_uri": "https://localhost:8080/"
        },
        "id": "hz98QiqubL5w",
        "outputId": "a4590715-aed8-46ae-a8d6-3e0ada05f471"
      },
      "execution_count": 55,
      "outputs": [
        {
          "output_type": "stream",
          "name": "stdout",
          "text": [
            "Epoch 1/8\n",
            "1563/1563 [==============================] - 15s 9ms/step - loss: 1.6273 - accuracy: 0.4212\n",
            "Epoch 2/8\n",
            "1563/1563 [==============================] - 14s 9ms/step - loss: 1.2647 - accuracy: 0.5582\n",
            "Epoch 3/8\n",
            "1563/1563 [==============================] - 14s 9ms/step - loss: 1.1575 - accuracy: 0.5962\n",
            "Epoch 4/8\n",
            "1563/1563 [==============================] - 14s 9ms/step - loss: 1.0828 - accuracy: 0.6213\n",
            "Epoch 5/8\n",
            "1563/1563 [==============================] - 14s 9ms/step - loss: 1.0304 - accuracy: 0.6397\n",
            "Epoch 6/8\n",
            "1563/1563 [==============================] - 14s 9ms/step - loss: 0.9877 - accuracy: 0.6538\n",
            "Epoch 7/8\n",
            "1563/1563 [==============================] - 14s 9ms/step - loss: 0.9477 - accuracy: 0.6701\n",
            "Epoch 8/8\n",
            "1563/1563 [==============================] - 14s 9ms/step - loss: 0.9132 - accuracy: 0.6831\n"
          ]
        },
        {
          "output_type": "execute_result",
          "data": {
            "text/plain": [
              "<keras.callbacks.History at 0x7f7e42181850>"
            ]
          },
          "metadata": {},
          "execution_count": 55
        }
      ]
    },
    {
      "cell_type": "code",
      "source": [
        "model.summary()"
      ],
      "metadata": {
        "colab": {
          "base_uri": "https://localhost:8080/"
        },
        "id": "W_DNfCz_RuDC",
        "outputId": "2da61417-66ea-48c2-c306-a4bb7a557b36"
      },
      "execution_count": 56,
      "outputs": [
        {
          "output_type": "stream",
          "name": "stdout",
          "text": [
            "Model: \"sequential_5\"\n",
            "_________________________________________________________________\n",
            " Layer (type)                Output Shape              Param #   \n",
            "=================================================================\n",
            " conv2d_5 (Conv2D)           (None, 30, 30, 128)       3584      \n",
            "                                                                 \n",
            " max_pooling2d_4 (MaxPooling  (None, 29, 29, 128)      0         \n",
            " 2D)                                                             \n",
            "                                                                 \n",
            " conv2d_6 (Conv2D)           (None, 27, 27, 128)       147584    \n",
            "                                                                 \n",
            " max_pooling2d_5 (MaxPooling  (None, 26, 26, 128)      0         \n",
            " 2D)                                                             \n",
            "                                                                 \n",
            " flatten_2 (Flatten)         (None, 86528)             0         \n",
            "                                                                 \n",
            " dense_6 (Dense)             (None, 64)                5537856   \n",
            "                                                                 \n",
            " dense_7 (Dense)             (None, 10)                650       \n",
            "                                                                 \n",
            "=================================================================\n",
            "Total params: 5,689,674\n",
            "Trainable params: 5,689,674\n",
            "Non-trainable params: 0\n",
            "_________________________________________________________________\n"
          ]
        }
      ]
    },
    {
      "cell_type": "code",
      "source": [
        "eval_score = model.evaluate(\n",
        "    x_test,\n",
        "    y_test,\n",
        "    verbose=2\n",
        ")"
      ],
      "metadata": {
        "colab": {
          "base_uri": "https://localhost:8080/"
        },
        "id": "Xgu5MMIURxc5",
        "outputId": "d96647fc-a223-48df-97ea-5450ea7994bf"
      },
      "execution_count": 57,
      "outputs": [
        {
          "output_type": "stream",
          "name": "stdout",
          "text": [
            "313/313 - 2s - loss: 1.0751 - accuracy: 0.6304 - 2s/epoch - 5ms/step\n"
          ]
        }
      ]
    },
    {
      "cell_type": "code",
      "source": [
        "label=['aeroplane', 'auto mobile', 'bird', 'cat', 'deer', 'dog', 'frog', 'horse','ship','truck']"
      ],
      "metadata": {
        "id": "hRE6_TBAc3ee"
      },
      "execution_count": 58,
      "outputs": []
    },
    {
      "cell_type": "code",
      "source": [
        "import random\n",
        "import numpy as np\n",
        "for i in range(5):\n",
        "  x=random.random()*10000\n",
        "  x=int(x)\n",
        "  plt.subplot(1,5,i+1)\n",
        "  plt.axis('off')\n",
        "  a=\"TEST \"+str(i+1)\n",
        "  plt.title(a)\n",
        "  plt.imshow(x_test[x],interpolation='Nearest')\n",
        "  print(\"TEST \",i+1)\n",
        "  print(\"Actual :\",label[int(y_test[x])])\n",
        "  print(\"prediction : \",label[model.predict(np.array([x_test[x]])).argmax()])\n",
        "print(\"CIFAR10 images : \")"
      ],
      "metadata": {
        "colab": {
          "base_uri": "https://localhost:8080/",
          "height": 391
        },
        "id": "qzVmV5VCR0jC",
        "outputId": "405daf0d-4b7e-4567-e2bd-898c282d7b86"
      },
      "execution_count": 64,
      "outputs": [
        {
          "output_type": "stream",
          "name": "stdout",
          "text": [
            "TEST  1\n",
            "Actual : horse\n",
            "prediction :  horse\n",
            "TEST  2\n",
            "Actual : dog\n",
            "prediction :  dog\n",
            "TEST  3\n",
            "Actual : dog\n",
            "prediction :  dog\n",
            "TEST  4\n",
            "Actual : truck\n",
            "prediction :  truck\n",
            "TEST  5\n",
            "Actual : ship\n",
            "prediction :  auto mobile\n",
            "CIFAR10 images : \n"
          ]
        },
        {
          "output_type": "display_data",
          "data": {
            "text/plain": [
              "<Figure size 432x288 with 5 Axes>"
            ],
            "image/png": "[encoded data removed]"
          },
          "metadata": {
            "needs_background": "light"
          }
        }
      ]
    },
    {
      "cell_type": "markdown",
      "source": [
        "**RNN(CuDNNLSTM) using tensorflow **\n",
        "\n",
        "will be using an RNN model to classify MNIST digits"
      ],
      "metadata": {
        "id": "8Nf5JxgXfI8h"
      }
    },
    {
      "cell_type": "code",
      "source": [
        "import tensorflow as tf\n",
        "from keras.datasets import mnist\n"
      ],
      "metadata": {
        "id": "T2Xx7AVEfMwc"
      },
      "execution_count": 4,
      "outputs": []
    },
    {
      "cell_type": "code",
      "source": [
        "(x_train, y_train), (x_test, y_test) = tf.keras.datasets.mnist.load_data()"
      ],
      "metadata": {
        "colab": {
          "base_uri": "https://localhost:8080/"
        },
        "id": "KlFN3WPP4rYl",
        "outputId": "2619f0e3-d14e-4dde-fabd-35efa9efa81e"
      },
      "execution_count": 5,
      "outputs": [
        {
          "output_type": "stream",
          "name": "stdout",
          "text": [
            "Downloading data from https://storage.googleapis.com/tensorflow/tf-keras-datasets/mnist.npz\n",
            "11493376/11490434 [==============================] - 0s 0us/step\n",
            "11501568/11490434 [==============================] - 0s 0us/step\n"
          ]
        }
      ]
    },
    {
      "cell_type": "code",
      "source": [
        "print(x_train.shape,y_train.shape,x_test.shape, y_test.shape)"
      ],
      "metadata": {
        "colab": {
          "base_uri": "https://localhost:8080/"
        },
        "id": "zRGjpzUA4zuv",
        "outputId": "316782b9-5fd7-4933-9bd7-494635409968"
      },
      "execution_count": 6,
      "outputs": [
        {
          "output_type": "stream",
          "name": "stdout",
          "text": [
            "(60000, 28, 28) (60000,) (10000, 28, 28) (10000,)\n"
          ]
        }
      ]
    },
    {
      "cell_type": "code",
      "source": [
        "x_train=x_train.astype('float32')/255.0\n",
        "\n",
        "x_test=x_test.astype('float32')/255.0\n"
      ],
      "metadata": {
        "id": "ZHTPJe-Q5G0Y"
      },
      "execution_count": 7,
      "outputs": []
    },
    {
      "cell_type": "code",
      "source": [
        "from keras.models import Sequential\n",
        "model=Sequential()"
      ],
      "metadata": {
        "id": "Vz_W0u0r5HVF"
      },
      "execution_count": 13,
      "outputs": []
    },
    {
      "cell_type": "code",
      "source": [
        "from keras.layers import Dense, Dropout, CuDNNLSTM"
      ],
      "metadata": {
        "id": "LokNKlid5Xw7"
      },
      "execution_count": 12,
      "outputs": []
    },
    {
      "cell_type": "code",
      "source": [
        "model.add(CuDNNLSTM(128,input_shape=(x_train.shape[1:]),return_sequences=True))\n",
        "model.add(Dropout(0.3))\n",
        "model.add(CuDNNLSTM(128))\n",
        "model.add(Dense(32,activation='relu'))\n",
        "model.add(Dropout(0.5))\n",
        "model.add(Dense(10,activation='softmax'))\n",
        "model.compile(optimizer = tf.keras.optimizers.Adam(),loss = 'sparse_categorical_crossentropy',metrics=['accuracy'])\n",
        "model.fit(x_train,y_train, epochs=4)"
      ],
      "metadata": {
        "colab": {
          "base_uri": "https://localhost:8080/"
        },
        "id": "jIR816SH5uTc",
        "outputId": "788069ca-eea5-4390-cfc2-cf86a0120a9f"
      },
      "execution_count": 14,
      "outputs": [
        {
          "output_type": "stream",
          "name": "stdout",
          "text": [
            "Epoch 1/4\n",
            "1875/1875 [==============================] - 14s 6ms/step - loss: 0.5320 - accuracy: 0.8396\n",
            "Epoch 2/4\n",
            "1875/1875 [==============================] - 12s 7ms/step - loss: 0.1877 - accuracy: 0.9521\n",
            "Epoch 3/4\n",
            "1875/1875 [==============================] - 12s 6ms/step - loss: 0.1363 - accuracy: 0.9639\n",
            "Epoch 4/4\n",
            "1875/1875 [==============================] - 12s 7ms/step - loss: 0.1147 - accuracy: 0.9692\n"
          ]
        },
        {
          "output_type": "execute_result",
          "data": {
            "text/plain": [
              "<keras.callbacks.History at 0x7f08a6437dd0>"
            ]
          },
          "metadata": {},
          "execution_count": 14
        }
      ]
    },
    {
      "cell_type": "code",
      "source": [
        "model.summary()"
      ],
      "metadata": {
        "colab": {
          "base_uri": "https://localhost:8080/"
        },
        "id": "vgntQqTC6cCh",
        "outputId": "b8a810d0-50d0-479c-f5d5-43afd619a50e"
      },
      "execution_count": 15,
      "outputs": [
        {
          "output_type": "stream",
          "name": "stdout",
          "text": [
            "Model: \"sequential_1\"\n",
            "_________________________________________________________________\n",
            " Layer (type)                Output Shape              Param #   \n",
            "=================================================================\n",
            " cu_dnnlstm_3 (CuDNNLSTM)    (None, 28, 128)           80896     \n",
            "                                                                 \n",
            " dropout_2 (Dropout)         (None, 28, 128)           0         \n",
            "                                                                 \n",
            " cu_dnnlstm_4 (CuDNNLSTM)    (None, 128)               132096    \n",
            "                                                                 \n",
            " dense_2 (Dense)             (None, 32)                4128      \n",
            "                                                                 \n",
            " dropout_3 (Dropout)         (None, 32)                0         \n",
            "                                                                 \n",
            " dense_3 (Dense)             (None, 10)                330       \n",
            "                                                                 \n",
            "=================================================================\n",
            "Total params: 217,450\n",
            "Trainable params: 217,450\n",
            "Non-trainable params: 0\n",
            "_________________________________________________________________\n"
          ]
        }
      ]
    },
    {
      "cell_type": "code",
      "source": [
        "eval_score = model.evaluate(\n",
        "    x_test,\n",
        "    y_test,\n",
        "    verbose=2\n",
        ")"
      ],
      "metadata": {
        "colab": {
          "base_uri": "https://localhost:8080/"
        },
        "id": "rdBcSthr6cd1",
        "outputId": "8b981216-9c5a-44df-bfce-a2c1fe319ffb"
      },
      "execution_count": 16,
      "outputs": [
        {
          "output_type": "stream",
          "name": "stdout",
          "text": [
            "313/313 - 2s - loss: 0.0751 - accuracy: 0.9836 - 2s/epoch - 7ms/step\n"
          ]
        }
      ]
    },
    {
      "cell_type": "code",
      "source": [
        "import random\n",
        "import numpy as np\n",
        "from matplotlib import pyplot\n",
        "for i in range(5):\n",
        "  x=random.random()*10000\n",
        "  x=int(x)\n",
        "  pyplot.subplot(1,5,i+1)\n",
        "  pyplot.axis('off')\n",
        "  a=\"TEST \"+str(i+1)\n",
        "  pyplot.title(a)\n",
        "  pyplot.imshow(x_test[x])\n",
        "  print(\"TEST \",i+1)\n",
        "  print(\"actual digit :\",y_test[x])\n",
        "  print(\"prediction : \",model.predict(np.array([x_test[x]])).argmax())\n",
        "print(\"MNIST handwritten : \")"
      ],
      "metadata": {
        "colab": {
          "base_uri": "https://localhost:8080/",
          "height": 391
        },
        "id": "gLE-LGv86fcO",
        "outputId": "6644979c-78ec-49bd-e0e5-38b342c43833"
      },
      "execution_count": 20,
      "outputs": [
        {
          "output_type": "stream",
          "name": "stdout",
          "text": [
            "TEST  1\n",
            "actual digit : 4\n",
            "prediction :  4\n",
            "TEST  2\n",
            "actual digit : 7\n",
            "prediction :  7\n",
            "TEST  3\n",
            "actual digit : 2\n",
            "prediction :  2\n",
            "TEST  4\n",
            "actual digit : 0\n",
            "prediction :  0\n",
            "TEST  5\n",
            "actual digit : 7\n",
            "prediction :  7\n",
            "MNIST handwritten : \n"
          ]
        },
        {
          "output_type": "display_data",
          "data": {
            "text/plain": [
              "<Figure size 432x288 with 5 Axes>"
            ],
            "image/png": "[encoded data removed]"
          },
          "metadata": {
            "needs_background": "light"
          }
        }
      ]
    }
  ]
}